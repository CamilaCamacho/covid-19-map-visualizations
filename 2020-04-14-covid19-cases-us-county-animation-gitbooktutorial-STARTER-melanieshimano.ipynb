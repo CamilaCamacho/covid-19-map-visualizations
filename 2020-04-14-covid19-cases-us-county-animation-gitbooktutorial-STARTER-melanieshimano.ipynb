{
 "cells": [
  {
   "cell_type": "markdown",
   "metadata": {},
   "source": [
    "# COVID-19 Critical Trends: Making Maps to show how COVID-19 Cases are Spreading in US Counties"
   ]
  },
  {
   "cell_type": "markdown",
   "metadata": {},
   "source": [
    "Johns Hopkins University recently released an updated component to their [Coronavirus Resource Center website](https://coronavirus.jhu.edu/data#charts) that showcases both critical COVID-19 data trends and an in-depth look at the most up-to-date COVID-19 confirmed case and death reports by US county. These data visualizations can help us better understand the virus's spread across countries so that we can implement data-driven prospective measures, policies, and support to help minimize the spread of the virus and better understand who might be in need of supplies or other support while there are active cases in those US counties."
   ]
  },
  {
   "cell_type": "markdown",
   "metadata": {},
   "source": [
    "While this helps us understand the overall toll of the virus in a country at a given time, we've seen in the US how local state and city leadership is critical to manage the well-being of their jurisdictions by protecting and informing citizens, forming public-private partnerships, and implementing social distancing and other policies to mitigate the spread of the virus and provide additional resources for healthcare frontline staff. An animated data visualization that demonstrates the number of cumulated COVID-19 confirmed cases in US counties can help us better understand how the virus is spreading within the United States and which county and state governments, businesses, and other organizations might need support during the pandemic.\n",
    "\n",
    "How can we make a similar visualization to show the overall toll on US counties or county equivalents?"
   ]
  },
  {
   "cell_type": "markdown",
   "metadata": {},
   "source": [
    "## import packages "
   ]
  },
  {
   "cell_type": "code",
   "execution_count": 1,
   "metadata": {},
   "outputs": [],
   "source": [
    "# import packages\n",
    "\n",
    "\n",
    "# import libraries to access geojson file (for choropleth map)\n"
   ]
  },
  {
   "cell_type": "markdown",
   "metadata": {},
   "source": [
    "## import data"
   ]
  },
  {
   "cell_type": "code",
   "execution_count": 2,
   "metadata": {},
   "outputs": [],
   "source": [
    "# data from JHU CSSE\n"
   ]
  },
  {
   "cell_type": "code",
   "execution_count": 3,
   "metadata": {},
   "outputs": [],
   "source": [
    "# make dataframe\n"
   ]
  },
  {
   "cell_type": "code",
   "execution_count": 4,
   "metadata": {},
   "outputs": [],
   "source": [
    "# preview data\n"
   ]
  },
  {
   "cell_type": "markdown",
   "metadata": {},
   "source": [
    "## Clean data "
   ]
  },
  {
   "cell_type": "code",
   "execution_count": 5,
   "metadata": {},
   "outputs": [],
   "source": [
    "# keep only US data\n"
   ]
  },
  {
   "cell_type": "code",
   "execution_count": 6,
   "metadata": {},
   "outputs": [],
   "source": [
    "# save csv data from us census population\n"
   ]
  },
  {
   "cell_type": "code",
   "execution_count": 7,
   "metadata": {},
   "outputs": [],
   "source": [
    "# import county population total data from 2019\n"
   ]
  },
  {
   "cell_type": "code",
   "execution_count": 8,
   "metadata": {},
   "outputs": [],
   "source": [
    "# preview data\n"
   ]
  },
  {
   "cell_type": "code",
   "execution_count": 9,
   "metadata": {},
   "outputs": [],
   "source": [
    "# convert state and county columns to strings\n"
   ]
  },
  {
   "cell_type": "code",
   "execution_count": 10,
   "metadata": {},
   "outputs": [],
   "source": [
    "# fill in preceding zeros to make state 2 digits and county 3 digits\n"
   ]
  },
  {
   "cell_type": "code",
   "execution_count": 11,
   "metadata": {},
   "outputs": [],
   "source": [
    "# sum state and county FIPS to create a column that contains the full county fips code\n"
   ]
  },
  {
   "cell_type": "code",
   "execution_count": 12,
   "metadata": {},
   "outputs": [],
   "source": [
    "# preview data\n"
   ]
  },
  {
   "cell_type": "code",
   "execution_count": 13,
   "metadata": {},
   "outputs": [],
   "source": [
    "# remove null FIPS codes\n"
   ]
  },
  {
   "cell_type": "code",
   "execution_count": 14,
   "metadata": {},
   "outputs": [],
   "source": [
    "# convert JHU df FIPS to integer\n"
   ]
  },
  {
   "cell_type": "code",
   "execution_count": 15,
   "metadata": {},
   "outputs": [],
   "source": [
    "# fill in preceding zeros to make FIPS five digits\n"
   ]
  },
  {
   "cell_type": "code",
   "execution_count": 16,
   "metadata": {},
   "outputs": [],
   "source": [
    "# preview data\n"
   ]
  },
  {
   "cell_type": "code",
   "execution_count": 17,
   "metadata": {},
   "outputs": [],
   "source": [
    "# get column names of population dataset\n",
    "#df_countypop.columns.tolist()"
   ]
  },
  {
   "cell_type": "code",
   "execution_count": 18,
   "metadata": {},
   "outputs": [],
   "source": [
    "# merge 2019 population data onto covid-19 df\n"
   ]
  },
  {
   "cell_type": "code",
   "execution_count": 19,
   "metadata": {},
   "outputs": [],
   "source": [
    "# preview merged data\n"
   ]
  },
  {
   "cell_type": "code",
   "execution_count": 20,
   "metadata": {},
   "outputs": [],
   "source": [
    "# make column for number of cases per 1000 people and deaths per 1000 people\n"
   ]
  },
  {
   "cell_type": "code",
   "execution_count": 21,
   "metadata": {},
   "outputs": [],
   "source": [
    "# round per capita values\n"
   ]
  },
  {
   "cell_type": "code",
   "execution_count": 22,
   "metadata": {},
   "outputs": [],
   "source": [
    "# preview datat\n"
   ]
  },
  {
   "cell_type": "markdown",
   "metadata": {},
   "source": [
    "## Bubble Map with Confirmed Case Data "
   ]
  },
  {
   "cell_type": "markdown",
   "metadata": {},
   "source": [
    "Template for plotly expressbubble map where size of bubble corresponds to # of cases\n",
    "\n",
    "```\n",
    "bubble_map = px.scatter_mapbox(df, # name of dataframe with data for bubble chart on the map\n",
    "                               lat = \"column of latitude values\",\n",
    "                               lon = \"column of longitude values\",\n",
    "                               size = \"column with values that dictates the bubble size\",\n",
    "                               hover_data = [list of columns that you want to display on the hover] ,\n",
    "                               hover_name = \"column with additional data that you want bolded in the hover pop-up\",\n",
    "                               center = dict(lat=latitude coord for center of map, S is negative, \n",
    "                                            lon= longitude coord for center of map, W is negative),\n",
    "                               zoom = number for how much you want to zoom into the center of the map,\n",
    "                               title = \"Title of Map\",\n",
    "                               labels = {\"column name\": \"what you'd like to rename the column to\",\n",
    "                                         \"column name\": \"what you'd like to rename the column to\"\n",
    "                                        } # these are optional, but usually make for nicer data presenation\n",
    "                              )\n",
    "```"
   ]
  },
  {
   "cell_type": "code",
   "execution_count": 23,
   "metadata": {},
   "outputs": [],
   "source": [
    "# set up mapbox access token\n"
   ]
  },
  {
   "cell_type": "code",
   "execution_count": 24,
   "metadata": {},
   "outputs": [],
   "source": [
    "# bubble map of number of cases\n"
   ]
  },
  {
   "cell_type": "code",
   "execution_count": 25,
   "metadata": {},
   "outputs": [],
   "source": [
    "# show bubble map"
   ]
  },
  {
   "cell_type": "markdown",
   "metadata": {},
   "source": [
    "## Density Heatmap with Confirmed Case Data "
   ]
  },
  {
   "cell_type": "markdown",
   "metadata": {},
   "source": [
    "Template for plotly express heatmap:\n",
    "\n",
    "```\n",
    "density_heatmap = px.density_mapbox(df, # dataframe with data for the heatmap \n",
    "                                    lat= \"column of latitude values\", \n",
    "                                    lon= \"column of longitude values\", \n",
    "                                    z= \"column of values that are the density values\", \n",
    "                                    hover_data = [list of columns that you want to display on the hover] ,\n",
    "                                    hover_name = \"column with additional data that you want bolded in the hover pop-up\", \n",
    "                                    labels = {\"column name\": \"what you'd like to rename the column to\",\n",
    "                                         \"column name\": \"what you'd like to rename the column to\"\n",
    "                                        } # these are optional, but usually make for nicer data presenation \n",
    "                                    color_continuous_scale= name of colorscale for heatmap,\n",
    "                                    center = dict(lat=latitude coord for center of map, S is negative, \n",
    "                                            lon= longitude coord for center of map, W is negative),\n",
    "                                    zoom = number for how much you want to zoom into the center of the map,\n",
    "                                    title = \"Title of Map\",\n",
    "                                    radius = Number that sets the radius of influence of each point (default is 30),\n",
    "                                    histfunc = function used to aggregate z values ('count', 'sum', 'avg', 'min', or 'max'))\n",
    "\n",
    "\n",
    "```\n"
   ]
  },
  {
   "cell_type": "code",
   "execution_count": 26,
   "metadata": {},
   "outputs": [],
   "source": [
    "# each row contributes to the density of the heatmap\n",
    "# copy row and append row equal to the number of cases for that county\n"
   ]
  },
  {
   "cell_type": "code",
   "execution_count": 27,
   "metadata": {},
   "outputs": [],
   "source": [
    "# preview first 11 rows of data"
   ]
  },
  {
   "cell_type": "code",
   "execution_count": 28,
   "metadata": {},
   "outputs": [],
   "source": [
    "# rename Long_ column to long and Lat column to lat to upload to mapbox\n"
   ]
  },
  {
   "cell_type": "code",
   "execution_count": 29,
   "metadata": {},
   "outputs": [],
   "source": [
    "# density heatmap of confirmed case data\n",
    "\n"
   ]
  },
  {
   "cell_type": "code",
   "execution_count": 30,
   "metadata": {},
   "outputs": [],
   "source": [
    "# this takes significan't memory and might not work on your computer\n",
    "#density_heatmap"
   ]
  },
  {
   "cell_type": "code",
   "execution_count": 31,
   "metadata": {},
   "outputs": [],
   "source": [
    "# instead, we can view if we export as an html\n"
   ]
  },
  {
   "cell_type": "markdown",
   "metadata": {},
   "source": [
    "## Animated Choropleth Map "
   ]
  },
  {
   "cell_type": "code",
   "execution_count": 32,
   "metadata": {},
   "outputs": [],
   "source": [
    "# save geojson file in our notebook\n"
   ]
  },
  {
   "cell_type": "code",
   "execution_count": 33,
   "metadata": {},
   "outputs": [],
   "source": [
    "#us_counties_shape"
   ]
  },
  {
   "cell_type": "code",
   "execution_count": 34,
   "metadata": {},
   "outputs": [],
   "source": [
    "# upload the nyt covid-19 data\n"
   ]
  },
  {
   "cell_type": "code",
   "execution_count": 35,
   "metadata": {},
   "outputs": [],
   "source": [
    "# make data into a dataframe\n"
   ]
  },
  {
   "cell_type": "code",
   "execution_count": 36,
   "metadata": {},
   "outputs": [],
   "source": [
    "# preview data\n"
   ]
  },
  {
   "cell_type": "code",
   "execution_count": 37,
   "metadata": {},
   "outputs": [],
   "source": [
    "# look at datatypes\n"
   ]
  },
  {
   "cell_type": "code",
   "execution_count": 38,
   "metadata": {},
   "outputs": [],
   "source": [
    "# convert fips to an integer then string then forward fill 0s to get 5 digits\n",
    "\n",
    "#remove null values\n",
    "\n",
    "# edit datatypes\n"
   ]
  },
  {
   "cell_type": "code",
   "execution_count": 39,
   "metadata": {},
   "outputs": [],
   "source": [
    "# look at dataframe data types"
   ]
  },
  {
   "cell_type": "code",
   "execution_count": 40,
   "metadata": {},
   "outputs": [],
   "source": [
    "# convert date column to datetime\n"
   ]
  },
  {
   "cell_type": "code",
   "execution_count": 41,
   "metadata": {},
   "outputs": [],
   "source": [
    "# make new column to make a more readable date\n",
    "# make column with month name\n"
   ]
  },
  {
   "cell_type": "code",
   "execution_count": 42,
   "metadata": {},
   "outputs": [],
   "source": [
    "# make column with month day\n"
   ]
  },
  {
   "cell_type": "code",
   "execution_count": 43,
   "metadata": {},
   "outputs": [],
   "source": [
    "# preview new columns\n"
   ]
  },
  {
   "cell_type": "code",
   "execution_count": 44,
   "metadata": {},
   "outputs": [],
   "source": [
    "# combine month and day into a string\n"
   ]
  },
  {
   "cell_type": "code",
   "execution_count": 45,
   "metadata": {},
   "outputs": [],
   "source": [
    "# preview data\n"
   ]
  },
  {
   "cell_type": "code",
   "execution_count": 46,
   "metadata": {},
   "outputs": [],
   "source": [
    "# merge 2019 population data onto nyt covid-19 df\n"
   ]
  },
  {
   "cell_type": "code",
   "execution_count": 47,
   "metadata": {},
   "outputs": [],
   "source": [
    "# make columns to calculate number of cases and deaths per 100000 residents\n",
    "# round the values to the 3rd decimal\n"
   ]
  },
  {
   "cell_type": "code",
   "execution_count": 48,
   "metadata": {},
   "outputs": [],
   "source": [
    "# make columns to calculate number of cases and deaths per 1000 residents\n",
    "# round the values to the 3rd decimal\n"
   ]
  },
  {
   "cell_type": "code",
   "execution_count": 49,
   "metadata": {},
   "outputs": [],
   "source": [
    "# preview data"
   ]
  },
  {
   "cell_type": "code",
   "execution_count": 50,
   "metadata": {},
   "outputs": [],
   "source": [
    "# print color HEX codes"
   ]
  },
  {
   "cell_type": "code",
   "execution_count": 51,
   "metadata": {},
   "outputs": [],
   "source": [
    "# make a logai=rithmic color scale\n"
   ]
  },
  {
   "cell_type": "markdown",
   "metadata": {},
   "source": [
    "Template for Plotly Express Choropleth Map:\n",
    "```\n",
    "choropleth_animation = px.choropleth(df, # dataframe with data for choropleth\n",
    "                                    geojson= name_of_geojson_data, # shape, geospatial data geojson\n",
    "                                    locations='\"column\" in geojson that denotes the shapes', \n",
    "                                    color='column in df that contains values that define the color scale',\n",
    "                                    animation_group = \"column in df that changes with each animation frame\",\n",
    "                                    animation_frame = \"column in df that identifies each animation frame\",\n",
    "                                    hover_name = \"column in df that shows up in bold in the hover square\",\n",
    "                                    color_continuous_scale= name_of_colorscale, \n",
    "                                    scope=\"usa\", # scope of map (world, USA, or any continent)\n",
    "                                    labels = {\"column name\": \"what you'd like to rename the column to\",\n",
    "                                         \"column name\": \"what you'd like to rename the column to\"\n",
    "                                        }, # these are optional, but usually make for nicer data presenation\n",
    "                                    title = \"Title of Map\"\n",
    "                                          \n",
    "                          )\n",
    "```"
   ]
  },
  {
   "cell_type": "code",
   "execution_count": 52,
   "metadata": {},
   "outputs": [],
   "source": [
    "# make a map of covid cases on april 14, 2020\n"
   ]
  },
  {
   "cell_type": "code",
   "execution_count": 53,
   "metadata": {},
   "outputs": [],
   "source": [
    "#covid_uscounty"
   ]
  },
  {
   "cell_type": "code",
   "execution_count": 54,
   "metadata": {},
   "outputs": [],
   "source": [
    "# export animation to html\n"
   ]
  },
  {
   "cell_type": "code",
   "execution_count": null,
   "metadata": {},
   "outputs": [],
   "source": []
  },
  {
   "cell_type": "code",
   "execution_count": null,
   "metadata": {},
   "outputs": [],
   "source": []
  },
  {
   "cell_type": "code",
   "execution_count": null,
   "metadata": {},
   "outputs": [],
   "source": []
  },
  {
   "cell_type": "code",
   "execution_count": null,
   "metadata": {},
   "outputs": [],
   "source": []
  },
  {
   "cell_type": "code",
   "execution_count": null,
   "metadata": {},
   "outputs": [],
   "source": []
  },
  {
   "cell_type": "code",
   "execution_count": null,
   "metadata": {},
   "outputs": [],
   "source": []
  }
 ],
 "metadata": {
  "kernelspec": {
   "display_name": "Python 3",
   "language": "python",
   "name": "python3"
  },
  "language_info": {
   "codemirror_mode": {
    "name": "ipython",
    "version": 3
   },
   "file_extension": ".py",
   "mimetype": "text/x-python",
   "name": "python",
   "nbconvert_exporter": "python",
   "pygments_lexer": "ipython3",
   "version": "3.8.2"
  }
 },
 "nbformat": 4,
 "nbformat_minor": 4
}
